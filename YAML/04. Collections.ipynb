{
 "cells": [
  {
   "cell_type": "markdown",
   "metadata": {},
   "source": [
    "# 3. **Collections:**\n",
    "   - Lists and arrays.\n",
    "   - Dictionaries and maps.\n"
   ]
  },
  {
   "cell_type": "markdown",
   "metadata": {},
   "source": [
    "In YAML, collections are structures used to group and organize data. There are three primary types of collections in YAML: sequences, mappings, and scalars. These collections allow you to represent complex data structures in a human-readable and concise format.\n",
    "\n",
    "1. **Sequences:**\n",
    "   - Sequences represent ordered lists of values.\n",
    "   - Elements in a sequence are denoted by a hyphen (`-`) followed by a space.\n",
    "   - Example:\n",
    "\n",
    "     ```yaml\n",
    "     fruits:\n",
    "       - apple\n",
    "       - banana\n",
    "       - orange\n",
    "     ```\n",
    "\n",
    "   In this example, `fruits` is a key with a sequence of three items.\n",
    "\n",
    "2. **Mappings:**\n",
    "   - Mappings represent collections of key-value pairs.\n",
    "   - Key-value pairs in a mapping are denoted by using a colon (`:`) to separate the key and value.\n",
    "   - Example:\n",
    "\n",
    "     ```yaml\n",
    "     person:\n",
    "       name: John Doe\n",
    "       age: 30\n",
    "     ```\n",
    "\n",
    "   In this example, `person` is a key with a mapping as its value. The mapping contains keys `name` and `age` with their respective values.\n",
    "\n",
    "3. **Scalars:**\n",
    "   - Scalars represent single, atomic values such as strings, numbers, booleans, or null.\n",
    "   - Scalars do not require explicit indicators, and YAML will automatically infer the data type.\n",
    "   - Example:\n",
    "\n",
    "     ```yaml\n",
    "     name: John Doe\n",
    "     age: 30\n",
    "     ```\n",
    "\n",
    "   In this example, `name` and `age` are keys with string and integer scalar values, respectively.\n",
    "\n",
    "4. **Nested Collections:**\n",
    "   - YAML allows nesting of collections within other collections.\n",
    "   - Sequences can contain mappings or other sequences, and mappings can contain sequences, mappings, or scalars.\n",
    "   - Example:\n",
    "\n",
    "     ```yaml\n",
    "     complex_structure:\n",
    "       - fruits:\n",
    "           - apple\n",
    "           - banana\n",
    "       - person:\n",
    "           name: Alice\n",
    "           age: 25\n",
    "       - value: 42\n",
    "     ```\n",
    "\n",
    "   In this example, `complex_structure` is a sequence containing items of different types, including a mapping and a scalar.\n",
    "\n",
    "5. **Implicit and Explicit Typing:**\n",
    "   - YAML can implicitly infer the data type of scalar values, sequences, and mappings. However, explicit typing with tags is also possible.\n",
    "   - Example:\n",
    "\n",
    "     ```yaml\n",
    "     explicit_types:\n",
    "       age: !!str 30   # Explicit string\n",
    "       pi: !!float 3.14  # Explicit float\n",
    "     ```\n",
    "\n",
    "Collections in YAML provide a flexible and expressive way to structure and represent data. The choice of using sequences, mappings, or scalars depends on the nature of the data and the desired hierarchical organization. Understanding how to work with and nest these collections is fundamental to creating well-formed and readable YAML documents."
   ]
  },
  {
   "cell_type": "markdown",
   "metadata": {},
   "source": [
    "# **Thank You!**"
   ]
  }
 ],
 "metadata": {
  "language_info": {
   "name": "python"
  }
 },
 "nbformat": 4,
 "nbformat_minor": 2
}
