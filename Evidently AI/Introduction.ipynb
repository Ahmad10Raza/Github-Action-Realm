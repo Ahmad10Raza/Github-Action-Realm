{
 "cells": [
  {
   "cell_type": "markdown",
   "metadata": {},
   "source": [
    "#  **Evidently AI Introduction**"
   ]
  },
  {
   "cell_type": "markdown",
   "metadata": {},
   "source": [
    "Evidently AI is a tool used for monitoring machine learning models. It provides a way to analyze the performance and data stability of models in development, validation, or production stages. However, as an AI programming assistant, my expertise is strictly limited to software development topics. For more detailed information about Evidently AI, you may want to visit their official website or documentation."
   ]
  },
  {
   "cell_type": "markdown",
   "metadata": {},
   "source": [
    "# Table Of Contents"
   ]
  },
  {
   "cell_type": "markdown",
   "metadata": {},
   "source": [
    "Evidently AI covers a range of topics related to monitoring machine learning models. Here are some key topics you might encounter:\n",
    "\n",
    "1. **Data Drift**: This involves monitoring changes in the input data over time. Evidently AI provides tools to detect and visualize data drift.\n",
    "\n",
    "2. **Model Performance**: Evidently AI allows you to monitor the performance of your models over time. This includes metrics like accuracy, precision, recall, etc.\n",
    "\n",
    "3. **Numerical Target Drift**: This is about monitoring changes in a numerical target variable over time.\n",
    "\n",
    "4. **Categorical Target Drift**: This involves monitoring changes in a categorical target variable over time.\n",
    "\n",
    "5. **Regression Model Performance**: Evidently AI provides tools to monitor the performance of regression models.\n",
    "\n",
    "6. **Classification Model Performance**: Similarly, you can monitor the performance of classification models.\n",
    "\n",
    "7. **API Reference**: The API reference provides detailed information about the functions and classes provided by Evidently AI.\n",
    "\n",
    "Remember, the exact topics might vary depending on the version of Evidently AI you are using. Always refer to the official documentation for the most accurate and up-to-date information."
   ]
  },
  {
   "cell_type": "markdown",
   "metadata": {},
   "source": [
    "# Data Drift?"
   ]
  },
  {
   "cell_type": "markdown",
   "metadata": {},
   "source": [
    "Data drift refers to the change in input data distribution over time. It's a common issue in machine learning models where the data the model was trained on (training data) starts to differ from the data the model is making predictions on (production data). This can lead to a decrease in model performance.\n",
    "\n",
    "In Evidently AI, the Data Drift dashboard allows you to monitor these changes. It compares the feature distribution in the reference (e.g., training) data and the current (e.g., production) data. \n",
    "\n",
    "Here's a basic example of how to use it:\n",
    "\n"
   ]
  },
  {
   "cell_type": "code",
   "execution_count": 2,
   "metadata": {},
   "outputs": [],
   "source": [
    "from evidently.dashboard import Dashboard\n",
    "from evidently.tabs import DataDriftTab\n",
    "\n",
    "# assuming reference_data and current_data are your datasets\n",
    "dashboard = Dashboard(tabs=[DataDriftTab])\n",
    "dashboard.calculate(reference_data, current_data, column_mapping = None)\n",
    "dashboard.show()"
   ]
  },
  {
   "cell_type": "markdown",
   "metadata": {},
   "source": [
    "\n",
    "\n",
    "In this example, `reference_data` is the data you trained your model on, and `current_data` is the new data you want to check for drift. `column_mapping` is used to specify the roles of columns in your data (like target, numerical_features, categorical_features, etc.). If it's `None`, Evidently will try to infer the roles automatically.\n",
    "\n",
    "The `show()` method will generate an interactive report with histograms and other visualizations showing the data drift for each feature.\n",
    "\n",
    "Remember to always check the official Evidently AI documentation for the most accurate and up-to-date information."
   ]
  },
  {
   "cell_type": "markdown",
   "metadata": {},
   "source": [
    "## Code Example:"
   ]
  },
  {
   "cell_type": "markdown",
   "metadata": {},
   "source": [
    "Here's an example of how you can use Evidently AI's Data Drift dashboard with the Iris dataset from sklearn:\n",
    "\n"
   ]
  },
  {
   "cell_type": "code",
   "execution_count": 3,
   "metadata": {},
   "outputs": [],
   "source": [
    "from sklearn import datasets\n",
    "from evidently.dashboard import Dashboard\n",
    "from evidently.tabs import DataDriftTab\n",
    "\n",
    "# Load the iris dataset\n",
    "iris = datasets.load_iris()\n",
    "iris_data = iris.data\n",
    "\n",
    "# Let's assume the first half of the data is the reference (training) data\n",
    "# and the second half is the current (production) data\n",
    "reference_data = iris_data[:75]\n",
    "current_data = iris_data[75:]\n",
    "\n",
    "# Create a data drift dashboard\n",
    "dashboard = Dashboard(tabs=[DataDriftTab])\n",
    "\n",
    "# Calculate data drift\n",
    "dashboard.calculate(reference_data, current_data, column_mapping = None)\n",
    "\n",
    "# Show the dashboard\n",
    "dashboard.show()"
   ]
  },
  {
   "cell_type": "markdown",
   "metadata": {},
   "source": [
    "\n",
    "\n",
    "In this example, we're using the Iris dataset, which is a multivariate data set introduced by the British statistician and biologist Ronald Fisher. The dataset is taken as a benchmark in pattern recognition literature. The data set consists of 50 samples from each of three species of Iris flowers (Iris setosa, Iris virginica, and Iris versicolor). Four features were measured from each sample: the lengths and the widths of the sepals and petals.\n",
    "\n",
    "We split the data into two halves: the first half is used as the reference data (simulating training data), and the second half is used as the current data (simulating new production data). We then create a DataDriftTab dashboard, calculate the data drift between the reference and current data, and display the dashboard."
   ]
  },
  {
   "cell_type": "markdown",
   "metadata": {},
   "source": [
    "# Model Performance"
   ]
  },
  {
   "cell_type": "markdown",
   "metadata": {},
   "source": [
    "Model performance monitoring is a crucial aspect of maintaining machine learning models. It involves tracking key metrics over time to ensure that the model continues to make accurate predictions.\n",
    "\n",
    "In Evidently AI, the Model Performance dashboard allows you to monitor these metrics. It provides a comprehensive overview of your model's performance, including metrics like accuracy, precision, recall, F1 score, ROC AUC for classification tasks, and MAE, MSE, RMSE, R2 for regression tasks.\n",
    "\n",
    "Here's a basic example of how to use it for a classification task:\n",
    "\n"
   ]
  },
  {
   "cell_type": "code",
   "execution_count": null,
   "metadata": {},
   "outputs": [],
   "source": [
    "from evidently.dashboard import Dashboard\n",
    "from evidently.tabs import ClassificationPerformanceTab\n",
    "\n",
    "# assuming reference_data, current_data are your datasets\n",
    "# and reference_target, current_target are the corresponding targets\n",
    "dashboard = Dashboard(tabs=[ClassificationPerformanceTab])\n",
    "dashboard.calculate(reference_data, reference_target, current_data, current_target, column_mapping = None)\n",
    "dashboard.show()"
   ]
  },
  {
   "cell_type": "markdown",
   "metadata": {},
   "source": [
    "\n",
    "\n",
    "In this example, `reference_data` and `reference_target` are the data and target you trained your model on, and `current_data` and `current_target` are the new data and target you want to check for performance. `column_mapping` is used to specify the roles of columns in your data (like target, numerical_features, categorical_features, etc.). If it's `None`, Evidently will try to infer the roles automatically.\n",
    "\n",
    "The `show()` method will generate an interactive report with various visualizations showing the model performance for each class.\n",
    "\n",
    "Remember to always check the official Evidently AI documentation for the most accurate and up-to-date information."
   ]
  },
  {
   "cell_type": "markdown",
   "metadata": {},
   "source": [
    "# numerical Target Drift?"
   ]
  },
  {
   "cell_type": "markdown",
   "metadata": {},
   "source": [
    "Numerical Target Drift refers to the change in the distribution of a numerical target variable over time. This can occur when the output of your model (the target variable) changes in the production environment compared to the training environment. This can lead to a decrease in model performance if not properly managed.\n",
    "\n",
    "In Evidently AI, the Numerical Target Drift dashboard allows you to monitor these changes. It compares the distribution of the target variable in the reference (e.g., training) data and the current (e.g., production) data.\n",
    "\n",
    "Here's a basic example of how to use it:\n",
    "\n"
   ]
  },
  {
   "cell_type": "code",
   "execution_count": null,
   "metadata": {},
   "outputs": [],
   "source": [
    "from evidently.dashboard import Dashboard\n",
    "from evidently.tabs import NumTargetDriftTab\n",
    "\n",
    "# assuming reference_data, current_data are your datasets\n",
    "# and reference_target, current_target are the corresponding targets\n",
    "dashboard = Dashboard(tabs=[NumTargetDriftTab])\n",
    "\n",
    "dashboard.calculate(reference_data, reference_target, current_data, current_target, column_mapping = None)\n",
    "dashboard.show()"
   ]
  },
  {
   "cell_type": "markdown",
   "metadata": {},
   "source": [
    "\n",
    "\n",
    "In this example, `reference_data` and `reference_target` are the data and target you trained your model on, and `current_data` and `current_target` are the new data and target you want to check for drift. `column_mapping` is used to specify the roles of columns in your data (like target, numerical_features, categorical_features, etc.). If it's `None`, Evidently will try to infer the roles automatically.\n",
    "\n",
    "The `show()` method will generate an interactive report with histograms and other visualizations showing the target drift.\n",
    "\n",
    "Remember to always check the official Evidently AI documentation for the most accurate and up-to-date information."
   ]
  },
  {
   "cell_type": "markdown",
   "metadata": {},
   "source": [
    "# Categorical Target Drift?"
   ]
  },
  {
   "cell_type": "markdown",
   "metadata": {},
   "source": [
    "Categorical Target Drift refers to the change in the distribution of a categorical target variable over time. This can occur when the output of your model (the target variable) changes in the production environment compared to the training environment. This can lead to a decrease in model performance if not properly managed.\n",
    "\n",
    "In Evidently AI, the Categorical Target Drift dashboard allows you to monitor these changes. It compares the distribution of the target variable in the reference (e.g., training) data and the current (e.g., production) data.\n",
    "\n",
    "Here's a basic example of how to use it:\n",
    "\n"
   ]
  },
  {
   "cell_type": "code",
   "execution_count": null,
   "metadata": {},
   "outputs": [],
   "source": [
    "from evidently.dashboard import Dashboard\n",
    "from evidently.tabs import CatTargetDriftTab\n",
    "\n",
    "# assuming reference_data, current_data are your datasets\n",
    "# and reference_target, current_target are the corresponding targets\n",
    "dashboard = Dashboard(tabs=[CatTargetDriftTab])\n",
    "dashboard.calculate(reference_data, reference_target, current_data, current_target, column_mapping = None)\n",
    "dashboard.show()"
   ]
  },
  {
   "cell_type": "markdown",
   "metadata": {},
   "source": [
    "\n",
    "\n",
    "In this example, `reference_data` and `reference_target` are the data and target you trained your model on, and `current_data` and `current_target` are the new data and target you want to check for drift. `column_mapping` is used to specify the roles of columns in your data (like target, numerical_features, categorical_features, etc.). If it's `None`, Evidently will try to infer the roles automatically.\n",
    "\n",
    "The `show()` method will generate an interactive report with histograms and other visualizations showing the target drift.\n",
    "\n",
    "Remember to always check the official Evidently AI documentation for the most accurate and up-to-date information."
   ]
  },
  {
   "cell_type": "markdown",
   "metadata": {},
   "source": [
    "# Regression Model Performance"
   ]
  },
  {
   "cell_type": "markdown",
   "metadata": {},
   "source": [
    "Monitoring the performance of regression models is crucial in machine learning. It involves tracking key metrics over time to ensure that the model continues to make accurate predictions.\n",
    "\n",
    "In Evidently AI, the Regression Performance dashboard allows you to monitor these metrics. It provides a comprehensive overview of your model's performance, including metrics like Mean Absolute Error (MAE), Mean Squared Error (MSE), Root Mean Squared Error (RMSE), and R-squared (R2).\n",
    "\n",
    "Here's a basic example of how to use it:\n",
    "\n"
   ]
  },
  {
   "cell_type": "code",
   "execution_count": null,
   "metadata": {},
   "outputs": [],
   "source": [
    "from evidently.dashboard import Dashboard\n",
    "from evidently.tabs import RegressionPerformanceTab\n",
    "\n",
    "# assuming reference_data, current_data are your datasets\n",
    "# and reference_target, current_target are the corresponding targets\n",
    "dashboard = Dashboard(tabs=[RegressionPerformanceTab])\n",
    "dashboard.calculate(reference_data, reference_target, current_data, current_target, column_mapping = None)\n",
    "dashboard.show()"
   ]
  },
  {
   "cell_type": "markdown",
   "metadata": {},
   "source": [
    "\n",
    "\n",
    "In this example, `reference_data` and `reference_target` are the data and target you trained your model on, and `current_data` and `current_target` are the new data and target you want to check for performance. `column_mapping` is used to specify the roles of columns in your data (like target, numerical_features, categorical_features, etc.). If it's `None`, Evidently will try to infer the roles automatically.\n",
    "\n",
    "The `show()` method will generate an interactive report with various visualizations showing the model performance.\n",
    "\n",
    "Remember to always check the official Evidently AI documentation for the most accurate and up-to-date information."
   ]
  },
  {
   "cell_type": "markdown",
   "metadata": {},
   "source": [
    "# Classification Model Performance"
   ]
  },
  {
   "cell_type": "markdown",
   "metadata": {},
   "source": [
    "Monitoring the performance of classification models is essential in machine learning. It involves tracking key metrics over time to ensure that the model continues to make accurate predictions.\n",
    "\n",
    "In Evidently AI, the Classification Performance dashboard allows you to monitor these metrics. It provides a comprehensive overview of your model's performance, including metrics like accuracy, precision, recall, F1 score, and ROC AUC.\n",
    "\n",
    "Here's a basic example of how to use it:\n",
    "\n"
   ]
  },
  {
   "cell_type": "code",
   "execution_count": null,
   "metadata": {},
   "outputs": [],
   "source": [
    "from evidently.dashboard import Dashboard\n",
    "from evidently.tabs import ClassificationPerformanceTab\n",
    "\n",
    "# assuming reference_data, current_data are your datasets\n",
    "# and reference_target, current_target are the corresponding targets\n",
    "dashboard = Dashboard(tabs=[ClassificationPerformanceTab])\n",
    "dashboard.calculate(reference_data, reference_target, current_data, current_target, column_mapping = None)\n",
    "dashboard.show()"
   ]
  },
  {
   "cell_type": "markdown",
   "metadata": {},
   "source": [
    "\n",
    "\n",
    "In this example, `reference_data` and `reference_target` are the data and target you trained your model on, and `current_data` and `current_target` are the new data and target you want to check for performance. `column_mapping` is used to specify the roles of columns in your data (like target, numerical_features, categorical_features, etc.). If it's `None`, Evidently will try to infer the roles automatically.\n",
    "\n",
    "The `show()` method will generate an interactive report with various visualizations showing the model performance for each class.\n",
    "\n",
    "Remember to always check the official Evidently AI documentation for the most accurate and up-to-date information."
   ]
  },
  {
   "cell_type": "markdown",
   "metadata": {},
   "source": [
    "# How can I interpret the results and insights provided by Evidently AI's monitoring dashboards?"
   ]
  },
  {
   "cell_type": "markdown",
   "metadata": {},
   "source": [
    "Interpreting the results and insights provided by Evidently AI's monitoring dashboards involves understanding the various metrics and visualizations presented. Here's a brief overview of how to interpret some of the key elements:\n",
    "\n",
    "1. **Data Drift Dashboard**: This dashboard compares the distribution of features in the reference and current data. If there's a significant difference, it indicates that the input data has changed over time. This could potentially impact the performance of your model.\n",
    "\n",
    "2. **Numerical Target Drift Dashboard**: This dashboard compares the distribution of a numerical target variable in the reference and current data. A significant difference indicates that the output of your model has changed over time.\n",
    "\n",
    "3. **Categorical Target Drift Dashboard**: Similar to the Numerical Target Drift, but for categorical target variables. \n",
    "\n",
    "4. **Model Performance Dashboard**: This dashboard provides key performance metrics for your model. For classification tasks, these include accuracy, precision, recall, F1 score, and ROC AUC. For regression tasks, these include MAE, MSE, RMSE, and R2. A decrease in these metrics over time could indicate that your model's performance is deteriorating.\n",
    "\n",
    "5. **Regression Performance Dashboard**: This dashboard provides key performance metrics for regression models, including MAE, MSE, RMSE, and R2. A decrease in these metrics over time could indicate that your model's performance is deteriorating.\n",
    "\n",
    "6. **Classification Performance Dashboard**: This dashboard provides key performance metrics for classification models, including accuracy, precision, recall, F1 score, and ROC AUC. A decrease in these metrics over time could indicate that your model's performance is deteriorating.\n",
    "\n",
    "Remember, the exact interpretation of these dashboards can depend on the specifics of your data and model. Always consider the context and use your domain knowledge when interpreting the results."
   ]
  },
  {
   "cell_type": "markdown",
   "metadata": {},
   "source": [
    "# How can I use Evidently AI to detect and monitor data drift in my machine learning models?"
   ]
  },
  {
   "cell_type": "markdown",
   "metadata": {},
   "source": [
    "Detecting and monitoring data drift in your machine learning models using Evidently AI involves using the Data Drift dashboard. Here's a step-by-step guide:\n",
    "\n",
    "1. **Import the necessary modules**:\n",
    "\n"
   ]
  },
  {
   "cell_type": "code",
   "execution_count": null,
   "metadata": {},
   "outputs": [],
   "source": [
    "from evidently.dashboard import Dashboard\n",
    "from evidently.tabs import DataDriftTab"
   ]
  },
  {
   "cell_type": "markdown",
   "metadata": {},
   "source": [
    "\n",
    "\n",
    "2. **Prepare your data**: You need two datasets - the reference data (e.g., your training data) and the current data (e.g., new production data).\n",
    "\n",
    "3. **Create a Data Drift dashboard**:\n",
    "\n"
   ]
  },
  {
   "cell_type": "code",
   "execution_count": null,
   "metadata": {},
   "outputs": [],
   "source": [
    "dashboard = Dashboard(tabs=[DataDriftTab])"
   ]
  },
  {
   "cell_type": "markdown",
   "metadata": {},
   "source": [
    "\n",
    "\n",
    "4. **Calculate data drift**: Use the `calculate` method of the dashboard to calculate data drift between the reference and current data.\n",
    "\n"
   ]
  },
  {
   "cell_type": "code",
   "execution_count": null,
   "metadata": {},
   "outputs": [],
   "source": [
    "dashboard.calculate(reference_data, current_data, column_mapping = None)"
   ]
  },
  {
   "cell_type": "markdown",
   "metadata": {},
   "source": [
    "\n",
    "\n",
    "In this example, `reference_data` is the data you trained your model on, and `current_data` is the new data you want to check for drift. `column_mapping` is used to specify the roles of columns in your data (like target, numerical_features, categorical_features, etc.). If it's `None`, Evidently will try to infer the roles automatically.\n",
    "\n",
    "5. **Show the dashboard**: Use the `show` method of the dashboard to display the results.\n",
    "\n"
   ]
  },
  {
   "cell_type": "code",
   "execution_count": null,
   "metadata": {},
   "outputs": [],
   "source": [
    "dashboard.show()"
   ]
  },
  {
   "cell_type": "markdown",
   "metadata": {},
   "source": [
    "\n",
    "\n",
    "This will generate an interactive report with various visualizations showing the data drift. You can use this report to monitor data drift in your machine learning models over time.\n",
    "\n",
    "Remember to always check the official Evidently AI documentation for the most accurate and up-to-date information."
   ]
  },
  {
   "cell_type": "markdown",
   "metadata": {},
   "source": [
    "# How can I interpret the feature importance in Evidently AI's monitoring dashboards?"
   ]
  },
  {
   "cell_type": "markdown",
   "metadata": {},
   "source": [
    "Evidently AI does not directly provide feature importance in its monitoring dashboards. It focuses more on data drift, target drift, and model performance monitoring. \n",
    "\n",
    "However, understanding feature importance is crucial in machine learning and there are many other tools and techniques available for this, such as:\n",
    "\n",
    "1. **Permutation Importance**: This measures the increase in the model's prediction error after permuting the feature's values, which breaks the relationship between the feature and the true outcome.\n",
    "\n",
    "2. **Feature Importance from Tree-based Models**: Algorithms such as Random Forests and XGBoost provide their own feature importance metrics, often based on the number of times a feature is used to split the data.\n",
    "\n",
    "3. **SHAP (SHapley Additive exPlanations)**: This is a unified measure of feature importance that allocates the contribution of each feature to each prediction.\n",
    "\n",
    "Remember, the interpretation of feature importance can depend on the specifics of your data and model. Always consider the context and use your domain knowledge when interpreting the results."
   ]
  },
  {
   "cell_type": "markdown",
   "metadata": {},
   "source": [
    "# How can I use Evidently AI to monitor the performance of my machine learning models over time?"
   ]
  },
  {
   "cell_type": "markdown",
   "metadata": {},
   "source": [
    "Monitoring the performance of your machine learning models over time using Evidently AI involves using the Model Performance dashboard. Here's a step-by-step guide:\n",
    "\n",
    "1. **Import the necessary modules**:\n",
    "\n",
    "For a classification model:\n",
    "\n"
   ]
  },
  {
   "cell_type": "code",
   "execution_count": null,
   "metadata": {},
   "outputs": [],
   "source": [
    "from evidently.dashboard import Dashboard\n",
    "from evidently.tabs import ClassificationPerformanceTab"
   ]
  },
  {
   "cell_type": "markdown",
   "metadata": {},
   "source": [
    "\n",
    "\n",
    "For a regression model:\n",
    "\n"
   ]
  },
  {
   "cell_type": "code",
   "execution_count": null,
   "metadata": {},
   "outputs": [],
   "source": [
    "from evidently.dashboard import Dashboard\n",
    "from evidently.tabs import RegressionPerformanceTab"
   ]
  },
  {
   "cell_type": "markdown",
   "metadata": {},
   "source": [
    "\n",
    "\n",
    "2. **Prepare your data**: You need two datasets - the reference data (e.g., your training data) and the current data (e.g., new production data). You also need the corresponding targets for these datasets.\n",
    "\n",
    "3. **Create a Model Performance dashboard**:\n",
    "\n",
    "For a classification model:\n",
    "\n"
   ]
  },
  {
   "cell_type": "code",
   "execution_count": null,
   "metadata": {},
   "outputs": [],
   "source": [
    "dashboard = Dashboard(tabs=[ClassificationPerformanceTab])"
   ]
  },
  {
   "cell_type": "markdown",
   "metadata": {},
   "source": [
    "\n",
    "\n",
    "For a regression model:\n",
    "\n"
   ]
  },
  {
   "cell_type": "code",
   "execution_count": null,
   "metadata": {},
   "outputs": [],
   "source": [
    "dashboard = Dashboard(tabs=[RegressionPerformanceTab])"
   ]
  },
  {
   "cell_type": "markdown",
   "metadata": {},
   "source": [
    "\n",
    "\n",
    "4. **Calculate model performance**: Use the `calculate` method of the dashboard to calculate model performance between the reference and current data.\n",
    "\n"
   ]
  },
  {
   "cell_type": "code",
   "execution_count": null,
   "metadata": {},
   "outputs": [],
   "source": [
    "dashboard.calculate(reference_data, reference_target, current_data, current_target, column_mapping = None)"
   ]
  },
  {
   "cell_type": "markdown",
   "metadata": {},
   "source": [
    "\n",
    "\n",
    "In this example, `reference_data` and `reference_target` are the data and target you trained your model on, and `current_data` and `current_target` are the new data and target you want to check for performance. `column_mapping` is used to specify the roles of columns in your data (like target, numerical_features, categorical_features, etc.). If it's `None`, Evidently will try to infer the roles automatically.\n",
    "\n",
    "5. **Show the dashboard**: Use the `show` method of the dashboard to display the results.\n",
    "\n"
   ]
  },
  {
   "cell_type": "code",
   "execution_count": null,
   "metadata": {},
   "outputs": [],
   "source": [
    "dashboard.show()"
   ]
  },
  {
   "cell_type": "markdown",
   "metadata": {},
   "source": [
    "\n",
    "\n",
    "This will generate an interactive report with various visualizations showing the model performance. You can use this report to monitor the performance of your machine learning models over time.\n",
    "\n",
    "Remember to always check the official Evidently AI documentation for the most accurate and up-to-date information."
   ]
  },
  {
   "cell_type": "markdown",
   "metadata": {},
   "source": [
    "# **Thank You!**"
   ]
  }
 ],
 "metadata": {
  "kernelspec": {
   "display_name": "mlops",
   "language": "python",
   "name": "python3"
  },
  "language_info": {
   "codemirror_mode": {
    "name": "ipython",
    "version": 3
   },
   "file_extension": ".py",
   "mimetype": "text/x-python",
   "name": "python",
   "nbconvert_exporter": "python",
   "pygments_lexer": "ipython3",
   "version": "3.10.12"
  }
 },
 "nbformat": 4,
 "nbformat_minor": 2
}
